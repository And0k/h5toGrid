{
 "cells": [
  {
   "cell_type": "code",
   "execution_count": 91,
   "metadata": {},
   "outputs": [
    {
     "data": {
      "text/latex": [
       "$\\displaystyle \\left[\\begin{matrix}A_{0 0} & A_{0 1} & A_{0 2}\\\\A_{1 0} & A_{1 1} & A_{1 2}\\\\A_{2 0} & A_{2 1} & A_{2 2}\\end{matrix}\\right] \\left(\\left[\\begin{matrix}- C_{0 0}\\\\- C_{1 0}\\\\- C_{2 0}\\end{matrix}\\right] + \\left[\\begin{matrix}x\\\\y\\\\z\\end{matrix}\\right]\\right)$"
      ],
      "text/plain": [
       "⎡A₀ ₀  A₀ ₁  A₀ ₂⎤ ⎛⎡x⎤   ⎡-C₀ ₀⎤⎞\n",
       "⎢                ⎥ ⎜⎢ ⎥   ⎢     ⎥⎟\n",
       "⎢A₁ ₀  A₁ ₁  A₁ ₂⎥⋅⎜⎢y⎥ + ⎢-C₁ ₀⎥⎟\n",
       "⎢                ⎥ ⎜⎢ ⎥   ⎢     ⎥⎟\n",
       "⎣A₂ ₀  A₂ ₁  A₂ ₂⎦ ⎝⎣z⎦   ⎣-C₂ ₀⎦⎠"
      ]
     },
     "metadata": {},
     "output_type": "display_data"
    },
    {
     "data": {
      "image/png": "[encoded data removed]",
      "text/latex": [
       "$\\displaystyle \\sqrt{A_{0 0}^{2} C_{0 0}^{2} - 2 A_{0 0}^{2} C_{0 0} x + A_{0 0}^{2} x^{2} + 2 A_{0 0} A_{0 1} C_{0 0} C_{1 0} - 2 A_{0 0} A_{0 1} C_{0 0} y - 2 A_{0 0} A_{0 1} C_{1 0} x + 2 A_{0 0} A_{0 1} x y + 2 A_{0 0} A_{0 2} C_{0 0} C_{2 0} - 2 A_{0 0} A_{0 2} C_{0 0} z - 2 A_{0 0} A_{0 2} C_{2 0} x + 2 A_{0 0} A_{0 2} x z + A_{0 1}^{2} C_{1 0}^{2} - 2 A_{0 1}^{2} C_{1 0} y + A_{0 1}^{2} y^{2} + 2 A_{0 1} A_{0 2} C_{1 0} C_{2 0} - 2 A_{0 1} A_{0 2} C_{1 0} z - 2 A_{0 1} A_{0 2} C_{2 0} y + 2 A_{0 1} A_{0 2} y z + A_{0 2}^{2} C_{2 0}^{2} - 2 A_{0 2}^{2} C_{2 0} z + A_{0 2}^{2} z^{2} + A_{1 0}^{2} C_{0 0}^{2} - 2 A_{1 0}^{2} C_{0 0} x + A_{1 0}^{2} x^{2} + 2 A_{1 0} A_{1 1} C_{0 0} C_{1 0} - 2 A_{1 0} A_{1 1} C_{0 0} y - 2 A_{1 0} A_{1 1} C_{1 0} x + 2 A_{1 0} A_{1 1} x y + 2 A_{1 0} A_{1 2} C_{0 0} C_{2 0} - 2 A_{1 0} A_{1 2} C_{0 0} z - 2 A_{1 0} A_{1 2} C_{2 0} x + 2 A_{1 0} A_{1 2} x z + A_{1 1}^{2} C_{1 0}^{2} - 2 A_{1 1}^{2} C_{1 0} y + A_{1 1}^{2} y^{2} + 2 A_{1 1} A_{1 2} C_{1 0} C_{2 0} - 2 A_{1 1} A_{1 2} C_{1 0} z - 2 A_{1 1} A_{1 2} C_{2 0} y + 2 A_{1 1} A_{1 2} y z + A_{1 2}^{2} C_{2 0}^{2} - 2 A_{1 2}^{2} C_{2 0} z + A_{1 2}^{2} z^{2} + A_{2 0}^{2} C_{0 0}^{2} - 2 A_{2 0}^{2} C_{0 0} x + A_{2 0}^{2} x^{2} + 2 A_{2 0} A_{2 1} C_{0 0} C_{1 0} - 2 A_{2 0} A_{2 1} C_{0 0} y - 2 A_{2 0} A_{2 1} C_{1 0} x + 2 A_{2 0} A_{2 1} x y + 2 A_{2 0} A_{2 2} C_{0 0} C_{2 0} - 2 A_{2 0} A_{2 2} C_{0 0} z - 2 A_{2 0} A_{2 2} C_{2 0} x + 2 A_{2 0} A_{2 2} x z + A_{2 1}^{2} C_{1 0}^{2} - 2 A_{2 1}^{2} C_{1 0} y + A_{2 1}^{2} y^{2} + 2 A_{2 1} A_{2 2} C_{1 0} C_{2 0} - 2 A_{2 1} A_{2 2} C_{1 0} z - 2 A_{2 1} A_{2 2} C_{2 0} y + 2 A_{2 1} A_{2 2} y z + A_{2 2}^{2} C_{2 0}^{2} - 2 A_{2 2}^{2} C_{2 0} z + A_{2 2}^{2} z^{2}} = mean_{Hsum}$"
      ],
      "text/plain": [
       "   ___________________________________________________________________________\n",
       "  ╱     2     2         2              2  2                                   \n",
       "╲╱  A₀ ₀ ⋅C₀ ₀  - 2⋅A₀ ₀ ⋅C₀ ₀⋅x + A₀ ₀ ⋅x  + 2⋅A₀ ₀⋅A₀ ₁⋅C₀ ₀⋅C₁ ₀ - 2⋅A₀ ₀⋅A\n",
       "\n",
       "______________________________________________________________________________\n",
       "                                                                              \n",
       "₀ ₁⋅C₀ ₀⋅y - 2⋅A₀ ₀⋅A₀ ₁⋅C₁ ₀⋅x + 2⋅A₀ ₀⋅A₀ ₁⋅x⋅y + 2⋅A₀ ₀⋅A₀ ₂⋅C₀ ₀⋅C₂ ₀ - 2⋅\n",
       "\n",
       "______________________________________________________________________________\n",
       "                                                              2     2         \n",
       "A₀ ₀⋅A₀ ₂⋅C₀ ₀⋅z - 2⋅A₀ ₀⋅A₀ ₂⋅C₂ ₀⋅x + 2⋅A₀ ₀⋅A₀ ₂⋅x⋅z + A₀ ₁ ⋅C₁ ₀  - 2⋅A₀ ₁\n",
       "\n",
       "______________________________________________________________________________\n",
       "2              2  2                                                           \n",
       " ⋅C₁ ₀⋅y + A₀ ₁ ⋅y  + 2⋅A₀ ₁⋅A₀ ₂⋅C₁ ₀⋅C₂ ₀ - 2⋅A₀ ₁⋅A₀ ₂⋅C₁ ₀⋅z - 2⋅A₀ ₁⋅A₀ ₂\n",
       "\n",
       "______________________________________________________________________________\n",
       "                                2     2         2              2  2       2   \n",
       "⋅C₂ ₀⋅y + 2⋅A₀ ₁⋅A₀ ₂⋅y⋅z + A₀ ₂ ⋅C₂ ₀  - 2⋅A₀ ₂ ⋅C₂ ₀⋅z + A₀ ₂ ⋅z  + A₁ ₀ ⋅C₀\n",
       "\n",
       "______________________________________________________________________________\n",
       "  2         2              2  2                                               \n",
       " ₀  - 2⋅A₁ ₀ ⋅C₀ ₀⋅x + A₁ ₀ ⋅x  + 2⋅A₁ ₀⋅A₁ ₁⋅C₀ ₀⋅C₁ ₀ - 2⋅A₁ ₀⋅A₁ ₁⋅C₀ ₀⋅y -\n",
       "\n",
       "______________________________________________________________________________\n",
       "                                                                              \n",
       " 2⋅A₁ ₀⋅A₁ ₁⋅C₁ ₀⋅x + 2⋅A₁ ₀⋅A₁ ₁⋅x⋅y + 2⋅A₁ ₀⋅A₁ ₂⋅C₀ ₀⋅C₂ ₀ - 2⋅A₁ ₀⋅A₁ ₂⋅C₀\n",
       "\n",
       "______________________________________________________________________________\n",
       "                                                  2     2         2           \n",
       " ₀⋅z - 2⋅A₁ ₀⋅A₁ ₂⋅C₂ ₀⋅x + 2⋅A₁ ₀⋅A₁ ₂⋅x⋅z + A₁ ₁ ⋅C₁ ₀  - 2⋅A₁ ₁ ⋅C₁ ₀⋅y + A\n",
       "\n",
       "______________________________________________________________________________\n",
       "   2  2                                                                       \n",
       "₁ ₁ ⋅y  + 2⋅A₁ ₁⋅A₁ ₂⋅C₁ ₀⋅C₂ ₀ - 2⋅A₁ ₁⋅A₁ ₂⋅C₁ ₀⋅z - 2⋅A₁ ₁⋅A₁ ₂⋅C₂ ₀⋅y + 2⋅\n",
       "\n",
       "______________________________________________________________________________\n",
       "                    2     2         2              2  2       2     2         \n",
       "A₁ ₁⋅A₁ ₂⋅y⋅z + A₁ ₂ ⋅C₂ ₀  - 2⋅A₁ ₂ ⋅C₂ ₀⋅z + A₁ ₂ ⋅z  + A₂ ₀ ⋅C₀ ₀  - 2⋅A₂ ₀\n",
       "\n",
       "______________________________________________________________________________\n",
       "2              2  2                                                           \n",
       " ⋅C₀ ₀⋅x + A₂ ₀ ⋅x  + 2⋅A₂ ₀⋅A₂ ₁⋅C₀ ₀⋅C₁ ₀ - 2⋅A₂ ₀⋅A₂ ₁⋅C₀ ₀⋅y - 2⋅A₂ ₀⋅A₂ ₁\n",
       "\n",
       "______________________________________________________________________________\n",
       "                                                                              \n",
       "⋅C₁ ₀⋅x + 2⋅A₂ ₀⋅A₂ ₁⋅x⋅y + 2⋅A₂ ₀⋅A₂ ₂⋅C₀ ₀⋅C₂ ₀ - 2⋅A₂ ₀⋅A₂ ₂⋅C₀ ₀⋅z - 2⋅A₂ \n",
       "\n",
       "______________________________________________________________________________\n",
       "                                      2     2         2              2  2     \n",
       "₀⋅A₂ ₂⋅C₂ ₀⋅x + 2⋅A₂ ₀⋅A₂ ₂⋅x⋅z + A₂ ₁ ⋅C₁ ₀  - 2⋅A₂ ₁ ⋅C₁ ₀⋅y + A₂ ₁ ⋅y  + 2⋅\n",
       "\n",
       "______________________________________________________________________________\n",
       "                                                                              \n",
       "A₂ ₁⋅A₂ ₂⋅C₁ ₀⋅C₂ ₀ - 2⋅A₂ ₁⋅A₂ ₂⋅C₁ ₀⋅z - 2⋅A₂ ₁⋅A₂ ₂⋅C₂ ₀⋅y + 2⋅A₂ ₁⋅A₂ ₂⋅y⋅\n",
       "\n",
       "____________________________________________            \n",
       "        2     2         2              2  2             \n",
       "z + A₂ ₂ ⋅C₂ ₀  - 2⋅A₂ ₂ ⋅C₂ ₀⋅z + A₂ ₂ ⋅z   = mean_Hsum"
      ]
     },
     "metadata": {},
     "output_type": "display_data"
    }
   ],
   "source": [
    "from IPython.display import display, Latex\n",
    "from sympy import *\n",
    "#from sympy.solvers.solvers import solve_linear_system_LU\n",
    "from sympy.utilities.lambdify import lambdastr\n",
    "import numpy as np\n",
    "init_printing(use_latex=True)\n",
    "Ah_ = symarray('A', (3, 3), real=True)\n",
    "Ch_ = symarray('C', (3, 1), real=True)\n",
    "x, y, z = symbols('x, y, z', real=True, pozitive=True)\n",
    "Ah = Matrix(Ah_)\n",
    "Ch = Matrix(Ch_)\n",
    "a = Matrix([x, y, z])\n",
    "mean_Hsum = Symbol('mean_Hsum')\n",
    "H = MatMul(Ah,MatAdd(a, -Ch))\n",
    "display(H)\n",
    "eq = Eq(Matrix(H).norm(), mean_Hsum)\n",
    "display(eq)\n",
    "#solve_linear_system_LU(mean_Hsum)"
   ]
  },
  {
   "cell_type": "code",
   "execution_count": 93,
   "metadata": {},
   "outputs": [
    {
     "data": {
      "text/latex": [
       "$$(A_0_0**2*C_0_0 + A_0_0*A_0_1*C_1_0 - A_0_0*A_0_1*y + A_0_0*A_0_2*C_2_0 - A_0_0*A_0_2*z + A_1_0**2*C_0_0 + A_1_0*A_1_1*C_1_0 - A_1_0*A_1_1*y + A_1_0*A_1_2*C_2_0 - A_1_0*A_1_2*z + A_2_0**2*C_0_0 + A_2_0*A_2_1*C_1_0 - A_2_0*A_2_1*y + A_2_0*A_2_2*C_2_0 - A_2_0*A_2_2*z - sqrt(-A_0_0**2*A_1_1**2*C_1_0**2 + 2*A_0_0**2*A_1_1**2*C_1_0*y - A_0_0**2*A_1_1**2*y**2 - 2*A_0_0**2*A_1_1*A_1_2*C_1_0*C_2_0 + 2*A_0_0**2*A_1_1*A_1_2*C_1_0*z + 2*A_0_0**2*A_1_1*A_1_2*C_2_0*y - 2*A_0_0**2*A_1_1*A_1_2*y*z - A_0_0**2*A_1_2**2*C_2_0**2 + 2*A_0_0**2*A_1_2**2*C_2_0*z - A_0_0**2*A_1_2**2*z**2 - A_0_0**2*A_2_1**2*C_1_0**2 + 2*A_0_0**2*A_2_1**2*C_1_0*y - A_0_0**2*A_2_1**2*y**2 - 2*A_0_0**2*A_2_1*A_2_2*C_1_0*C_2_0 + 2*A_0_0**2*A_2_1*A_2_2*C_1_0*z + 2*A_0_0**2*A_2_1*A_2_2*C_2_0*y - 2*A_0_0**2*A_2_1*A_2_2*y*z - A_0_0**2*A_2_2**2*C_2_0**2 + 2*A_0_0**2*A_2_2**2*C_2_0*z - A_0_0**2*A_2_2**2*z**2 + A_0_0**2*mean_Hsum**2 + 2*A_0_0*A_0_1*A_1_0*A_1_1*C_1_0**2 - 4*A_0_0*A_0_1*A_1_0*A_1_1*C_1_0*y + 2*A_0_0*A_0_1*A_1_0*A_1_1*y**2 + 2*A_0_0*A_0_1*A_1_0*A_1_2*C_1_0*C_2_0 - 2*A_0_0*A_0_1*A_1_0*A_1_2*C_1_0*z - 2*A_0_0*A_0_1*A_1_0*A_1_2*C_2_0*y + 2*A_0_0*A_0_1*A_1_0*A_1_2*y*z + 2*A_0_0*A_0_1*A_2_0*A_2_1*C_1_0**2 - 4*A_0_0*A_0_1*A_2_0*A_2_1*C_1_0*y + 2*A_0_0*A_0_1*A_2_0*A_2_1*y**2 + 2*A_0_0*A_0_1*A_2_0*A_2_2*C_1_0*C_2_0 - 2*A_0_0*A_0_1*A_2_0*A_2_2*C_1_0*z - 2*A_0_0*A_0_1*A_2_0*A_2_2*C_2_0*y + 2*A_0_0*A_0_1*A_2_0*A_2_2*y*z + 2*A_0_0*A_0_2*A_1_0*A_1_1*C_1_0*C_2_0 - 2*A_0_0*A_0_2*A_1_0*A_1_1*C_1_0*z - 2*A_0_0*A_0_2*A_1_0*A_1_1*C_2_0*y + 2*A_0_0*A_0_2*A_1_0*A_1_1*y*z + 2*A_0_0*A_0_2*A_1_0*A_1_2*C_2_0**2 - 4*A_0_0*A_0_2*A_1_0*A_1_2*C_2_0*z + 2*A_0_0*A_0_2*A_1_0*A_1_2*z**2 + 2*A_0_0*A_0_2*A_2_0*A_2_1*C_1_0*C_2_0 - 2*A_0_0*A_0_2*A_2_0*A_2_1*C_1_0*z - 2*A_0_0*A_0_2*A_2_0*A_2_1*C_2_0*y + 2*A_0_0*A_0_2*A_2_0*A_2_1*y*z + 2*A_0_0*A_0_2*A_2_0*A_2_2*C_2_0**2 - 4*A_0_0*A_0_2*A_2_0*A_2_2*C_2_0*z + 2*A_0_0*A_0_2*A_2_0*A_2_2*z**2 - A_0_1**2*A_1_0**2*C_1_0**2 + 2*A_0_1**2*A_1_0**2*C_1_0*y - A_0_1**2*A_1_0**2*y**2 - A_0_1**2*A_2_0**2*C_1_0**2 + 2*A_0_1**2*A_2_0**2*C_1_0*y - A_0_1**2*A_2_0**2*y**2 - 2*A_0_1*A_0_2*A_1_0**2*C_1_0*C_2_0 + 2*A_0_1*A_0_2*A_1_0**2*C_1_0*z + 2*A_0_1*A_0_2*A_1_0**2*C_2_0*y - 2*A_0_1*A_0_2*A_1_0**2*y*z - 2*A_0_1*A_0_2*A_2_0**2*C_1_0*C_2_0 + 2*A_0_1*A_0_2*A_2_0**2*C_1_0*z + 2*A_0_1*A_0_2*A_2_0**2*C_2_0*y - 2*A_0_1*A_0_2*A_2_0**2*y*z - A_0_2**2*A_1_0**2*C_2_0**2 + 2*A_0_2**2*A_1_0**2*C_2_0*z - A_0_2**2*A_1_0**2*z**2 - A_0_2**2*A_2_0**2*C_2_0**2 + 2*A_0_2**2*A_2_0**2*C_2_0*z - A_0_2**2*A_2_0**2*z**2 - A_1_0**2*A_2_1**2*C_1_0**2 + 2*A_1_0**2*A_2_1**2*C_1_0*y - A_1_0**2*A_2_1**2*y**2 - 2*A_1_0**2*A_2_1*A_2_2*C_1_0*C_2_0 + 2*A_1_0**2*A_2_1*A_2_2*C_1_0*z + 2*A_1_0**2*A_2_1*A_2_2*C_2_0*y - 2*A_1_0**2*A_2_1*A_2_2*y*z - A_1_0**2*A_2_2**2*C_2_0**2 + 2*A_1_0**2*A_2_2**2*C_2_0*z - A_1_0**2*A_2_2**2*z**2 + A_1_0**2*mean_Hsum**2 + 2*A_1_0*A_1_1*A_2_0*A_2_1*C_1_0**2 - 4*A_1_0*A_1_1*A_2_0*A_2_1*C_1_0*y + 2*A_1_0*A_1_1*A_2_0*A_2_1*y**2 + 2*A_1_0*A_1_1*A_2_0*A_2_2*C_1_0*C_2_0 - 2*A_1_0*A_1_1*A_2_0*A_2_2*C_1_0*z - 2*A_1_0*A_1_1*A_2_0*A_2_2*C_2_0*y + 2*A_1_0*A_1_1*A_2_0*A_2_2*y*z + 2*A_1_0*A_1_2*A_2_0*A_2_1*C_1_0*C_2_0 - 2*A_1_0*A_1_2*A_2_0*A_2_1*C_1_0*z - 2*A_1_0*A_1_2*A_2_0*A_2_1*C_2_0*y + 2*A_1_0*A_1_2*A_2_0*A_2_1*y*z + 2*A_1_0*A_1_2*A_2_0*A_2_2*C_2_0**2 - 4*A_1_0*A_1_2*A_2_0*A_2_2*C_2_0*z + 2*A_1_0*A_1_2*A_2_0*A_2_2*z**2 - A_1_1**2*A_2_0**2*C_1_0**2 + 2*A_1_1**2*A_2_0**2*C_1_0*y - A_1_1**2*A_2_0**2*y**2 - 2*A_1_1*A_1_2*A_2_0**2*C_1_0*C_2_0 + 2*A_1_1*A_1_2*A_2_0**2*C_1_0*z + 2*A_1_1*A_1_2*A_2_0**2*C_2_0*y - 2*A_1_1*A_1_2*A_2_0**2*y*z - A_1_2**2*A_2_0**2*C_2_0**2 + 2*A_1_2**2*A_2_0**2*C_2_0*z - A_1_2**2*A_2_0**2*z**2 + A_2_0**2*mean_Hsum**2))/(A_0_0**2 + A_1_0**2 + A_2_0**2)$$"
      ],
      "text/plain": [
       "<IPython.core.display.Latex object>"
      ]
     },
     "metadata": {},
     "output_type": "display_data"
    }
   ],
   "source": [
    "result_expr = solve(eq, x)[0]; display(Latex(f\"$${result_expr}$$\"))\n"
   ]
  },
  {
   "cell_type": "code",
   "execution_count": 94,
   "metadata": {},
   "outputs": [
    {
     "data": {
      "text/plain": [
       "array([[A_0_0, A_0_1, A_0_2],\n",
       "       [A_1_0, A_1_1, A_1_2],\n",
       "       [A_2_0, A_2_1, A_2_2]], dtype=object)"
      ]
     },
     "metadata": {},
     "output_type": "display_data"
    },
    {
     "data": {
      "text/plain": [
       "array([[C_0_0, C_1_0, C_2_0]], dtype=object)"
      ]
     },
     "metadata": {},
     "output_type": "display_data"
    },
    {
     "data": {
      "text/plain": [
       "array([[a_0_0, a_1_0, a_2_0]], dtype=object)"
      ]
     },
     "metadata": {},
     "output_type": "display_data"
    }
   ],
   "source": [
    "display(Ah_, Ch_.T, a_.T)"
   ]
  },
  {
   "cell_type": "code",
   "execution_count": 95,
   "metadata": {},
   "outputs": [
    {
     "data": {
      "text/plain": [
       "'lambda _0,_1,_2,_3,_4: (lambda y,z,A_0_0,A_0_1,A_0_2,A_1_0,A_1_1,A_1_2,A_2_0,A_2_1,A_2_2,C_0_0,C_1_0,C_2_0,mean_Hsum: ((A_0_0**2*C_0_0 + A_0_0*A_0_1*C_1_0 - A_0_0*A_0_1*y + A_0_0*A_0_2*C_2_0 - A_0_0*A_0_2*z + A_1_0**2*C_0_0 + A_1_0*A_1_1*C_1_0 - A_1_0*A_1_1*y + A_1_0*A_1_2*C_2_0 - A_1_0*A_1_2*z + A_2_0**2*C_0_0 + A_2_0*A_2_1*C_1_0 - A_2_0*A_2_1*y + A_2_0*A_2_2*C_2_0 - A_2_0*A_2_2*z - sqrt(-A_0_0**2*A_1_1**2*C_1_0**2 + 2*A_0_0**2*A_1_1**2*C_1_0*y - A_0_0**2*A_1_1**2*y**2 - 2*A_0_0**2*A_1_1*A_1_2*C_1_0*C_2_0 + 2*A_0_0**2*A_1_1*A_1_2*C_1_0*z + 2*A_0_0**2*A_1_1*A_1_2*C_2_0*y - 2*A_0_0**2*A_1_1*A_1_2*y*z - A_0_0**2*A_1_2**2*C_2_0**2 + 2*A_0_0**2*A_1_2**2*C_2_0*z - A_0_0**2*A_1_2**2*z**2 - A_0_0**2*A_2_1**2*C_1_0**2 + 2*A_0_0**2*A_2_1**2*C_1_0*y - A_0_0**2*A_2_1**2*y**2 - 2*A_0_0**2*A_2_1*A_2_2*C_1_0*C_2_0 + 2*A_0_0**2*A_2_1*A_2_2*C_1_0*z + 2*A_0_0**2*A_2_1*A_2_2*C_2_0*y - 2*A_0_0**2*A_2_1*A_2_2*y*z - A_0_0**2*A_2_2**2*C_2_0**2 + 2*A_0_0**2*A_2_2**2*C_2_0*z - A_0_0**2*A_2_2**2*z**2 + A_0_0**2*mean_Hsum**2 + 2*A_0_0*A_0_1*A_1_0*A_1_1*C_1_0**2 - 4*A_0_0*A_0_1*A_1_0*A_1_1*C_1_0*y + 2*A_0_0*A_0_1*A_1_0*A_1_1*y**2 + 2*A_0_0*A_0_1*A_1_0*A_1_2*C_1_0*C_2_0 - 2*A_0_0*A_0_1*A_1_0*A_1_2*C_1_0*z - 2*A_0_0*A_0_1*A_1_0*A_1_2*C_2_0*y + 2*A_0_0*A_0_1*A_1_0*A_1_2*y*z + 2*A_0_0*A_0_1*A_2_0*A_2_1*C_1_0**2 - 4*A_0_0*A_0_1*A_2_0*A_2_1*C_1_0*y + 2*A_0_0*A_0_1*A_2_0*A_2_1*y**2 + 2*A_0_0*A_0_1*A_2_0*A_2_2*C_1_0*C_2_0 - 2*A_0_0*A_0_1*A_2_0*A_2_2*C_1_0*z - 2*A_0_0*A_0_1*A_2_0*A_2_2*C_2_0*y + 2*A_0_0*A_0_1*A_2_0*A_2_2*y*z + 2*A_0_0*A_0_2*A_1_0*A_1_1*C_1_0*C_2_0 - 2*A_0_0*A_0_2*A_1_0*A_1_1*C_1_0*z - 2*A_0_0*A_0_2*A_1_0*A_1_1*C_2_0*y + 2*A_0_0*A_0_2*A_1_0*A_1_1*y*z + 2*A_0_0*A_0_2*A_1_0*A_1_2*C_2_0**2 - 4*A_0_0*A_0_2*A_1_0*A_1_2*C_2_0*z + 2*A_0_0*A_0_2*A_1_0*A_1_2*z**2 + 2*A_0_0*A_0_2*A_2_0*A_2_1*C_1_0*C_2_0 - 2*A_0_0*A_0_2*A_2_0*A_2_1*C_1_0*z - 2*A_0_0*A_0_2*A_2_0*A_2_1*C_2_0*y + 2*A_0_0*A_0_2*A_2_0*A_2_1*y*z + 2*A_0_0*A_0_2*A_2_0*A_2_2*C_2_0**2 - 4*A_0_0*A_0_2*A_2_0*A_2_2*C_2_0*z + 2*A_0_0*A_0_2*A_2_0*A_2_2*z**2 - A_0_1**2*A_1_0**2*C_1_0**2 + 2*A_0_1**2*A_1_0**2*C_1_0*y - A_0_1**2*A_1_0**2*y**2 - A_0_1**2*A_2_0**2*C_1_0**2 + 2*A_0_1**2*A_2_0**2*C_1_0*y - A_0_1**2*A_2_0**2*y**2 - 2*A_0_1*A_0_2*A_1_0**2*C_1_0*C_2_0 + 2*A_0_1*A_0_2*A_1_0**2*C_1_0*z + 2*A_0_1*A_0_2*A_1_0**2*C_2_0*y - 2*A_0_1*A_0_2*A_1_0**2*y*z - 2*A_0_1*A_0_2*A_2_0**2*C_1_0*C_2_0 + 2*A_0_1*A_0_2*A_2_0**2*C_1_0*z + 2*A_0_1*A_0_2*A_2_0**2*C_2_0*y - 2*A_0_1*A_0_2*A_2_0**2*y*z - A_0_2**2*A_1_0**2*C_2_0**2 + 2*A_0_2**2*A_1_0**2*C_2_0*z - A_0_2**2*A_1_0**2*z**2 - A_0_2**2*A_2_0**2*C_2_0**2 + 2*A_0_2**2*A_2_0**2*C_2_0*z - A_0_2**2*A_2_0**2*z**2 - A_1_0**2*A_2_1**2*C_1_0**2 + 2*A_1_0**2*A_2_1**2*C_1_0*y - A_1_0**2*A_2_1**2*y**2 - 2*A_1_0**2*A_2_1*A_2_2*C_1_0*C_2_0 + 2*A_1_0**2*A_2_1*A_2_2*C_1_0*z + 2*A_1_0**2*A_2_1*A_2_2*C_2_0*y - 2*A_1_0**2*A_2_1*A_2_2*y*z - A_1_0**2*A_2_2**2*C_2_0**2 + 2*A_1_0**2*A_2_2**2*C_2_0*z - A_1_0**2*A_2_2**2*z**2 + A_1_0**2*mean_Hsum**2 + 2*A_1_0*A_1_1*A_2_0*A_2_1*C_1_0**2 - 4*A_1_0*A_1_1*A_2_0*A_2_1*C_1_0*y + 2*A_1_0*A_1_1*A_2_0*A_2_1*y**2 + 2*A_1_0*A_1_1*A_2_0*A_2_2*C_1_0*C_2_0 - 2*A_1_0*A_1_1*A_2_0*A_2_2*C_1_0*z - 2*A_1_0*A_1_1*A_2_0*A_2_2*C_2_0*y + 2*A_1_0*A_1_1*A_2_0*A_2_2*y*z + 2*A_1_0*A_1_2*A_2_0*A_2_1*C_1_0*C_2_0 - 2*A_1_0*A_1_2*A_2_0*A_2_1*C_1_0*z - 2*A_1_0*A_1_2*A_2_0*A_2_1*C_2_0*y + 2*A_1_0*A_1_2*A_2_0*A_2_1*y*z + 2*A_1_0*A_1_2*A_2_0*A_2_2*C_2_0**2 - 4*A_1_0*A_1_2*A_2_0*A_2_2*C_2_0*z + 2*A_1_0*A_1_2*A_2_0*A_2_2*z**2 - A_1_1**2*A_2_0**2*C_1_0**2 + 2*A_1_1**2*A_2_0**2*C_1_0*y - A_1_1**2*A_2_0**2*y**2 - 2*A_1_1*A_1_2*A_2_0**2*C_1_0*C_2_0 + 2*A_1_1*A_1_2*A_2_0**2*C_1_0*z + 2*A_1_1*A_1_2*A_2_0**2*C_2_0*y - 2*A_1_1*A_1_2*A_2_0**2*y*z - A_1_2**2*A_2_0**2*C_2_0**2 + 2*A_1_2**2*A_2_0**2*C_2_0*z - A_1_2**2*A_2_0**2*z**2 + A_2_0**2*mean_Hsum**2))/(A_0_0**2 + A_1_0**2 + A_2_0**2)))(_0,_1,_2[0][0],_2[0][1],_2[0][2],_2[1][0],_2[1][1],_2[1][2],_2[2][0],_2[2][1],_2[2][2],_3[0][0],_3[1][0],_3[2][0],_4)'"
      ]
     },
     "metadata": {},
     "output_type": "display_data"
    }
   ],
   "source": [
    "display(lambdastr((y, z, Ah_, Ch_, mean_Hsum), result_expr))\n",
    "# result_expr.subs(a_[1,0], y).subs(a_[2,0], z)\n",
    "f_x = lambdify((y, z, Ah_, Ch_, mean_Hsum), result_expr)"
   ]
  },
  {
   "cell_type": "code",
   "execution_count": 96,
   "metadata": {},
   "outputs": [
    {
     "data": {
      "text/plain": [
       "<function _lambdifygenerated(y, z, _Dummy_337, _Dummy_338, mean_Hsum)>"
      ]
     },
     "execution_count": 96,
     "metadata": {},
     "output_type": "execute_result"
    }
   ],
   "source": [
    "f_x"
   ]
  },
  {
   "cell_type": "code",
   "execution_count": 110,
   "metadata": {},
   "outputs": [],
   "source": [
    "Ah30 = np.array([[ 1.65027344e-03, -3.77068724e-06,  5.13905754e-05],\n",
    " [ 2.81466475e-06, -1.66927197e-03, -6.62298327e-05],\n",
    " [-1.96738189e-05,  1.87562060e-05, -1.98653991e-03]])\n",
    "Ch30 = np.array([[-117.51912034], [-125.39173853], [  46.11088963]])\n",
    "z30 = np.array([500.8, 503., 500.9, 500.8, 500.8, 502.2, 503.11111111, 502.2, 500.9, 498.1, 498.3, 496.9, 498.9, 493.7, 451., 482.2, 499.3, 494.9, 490.6, 458.7, 405.4, 117.8, -261., -265., -413.1, -395.9, -403.9, -239.7, -78.2, -43.6, -75.5, -103.6, -98.3, -94.6, -92.2, -95.7, -105.4, -105.11111111, -87.8, -90.6, -91., -41.1, -44.2, -60.8, -65.2, -175., -411.6, -415.33333333, -413.9, -403.1])\n",
    "y30 = np.array([-80.6, -69.4, -90.3, -76.6, -45.9, -91.2, -101.11111111, -79.4, -117.6, -99.4, -62.8, -27.7, -63.3, -81.6, 18.8, -108.3, -144.8, -169.1, -170., -248.6, -229.8, -216.7, 156., -19.3, -164.9, -227.6, -221.3, 94., 117.1, 220.8, 212.7, 195.1, 182.9, 171.4, 160.2, 134.6, 114.1, 218.22222222, 254.2, 232.2, 249.3, 423.8, 365.7, -56.1, -183.2, 109.5, -216.6, -207.44444444, -225.4, -264.8])\n",
    "x30 = f_x(y30, z30, Ah30, Ch30, 5)"
   ]
  },
  {
   "cell_type": "code",
   "execution_count": 111,
   "metadata": {},
   "outputs": [
    {
     "data": {
      "text/plain": [
       "array([[5., 5., 5., 5., 5., 5., 5., 5., 5., 5., 5., 5., 5., 5., 5., 5.,\n",
       "        5., 5., 5., 5., 5., 5., 5., 5., 5., 5., 5., 5., 5., 5., 5., 5.,\n",
       "        5., 5., 5., 5., 5., 5., 5., 5., 5., 5., 5., 5., 5., 5., 5., 5.,\n",
       "        5., 5.]])"
      ]
     },
     "execution_count": 111,
     "metadata": {},
     "output_type": "execute_result"
    }
   ],
   "source": [
    "# test\n",
    "fG = lambda Axyz, Ag, Cg: np.dot(Ag, (Axyz - Cg))\n",
    "Hxyz = fG(np.array([[x30, y30, z30]]).T, Ah30, Ch30)\n",
    "np.linalg.norm(Hxyz, axis=0).T  # np.sqrt(np.square(Hxyz).sum(axis=0))"
   ]
  },
  {
   "cell_type": "code",
   "execution_count": null,
   "metadata": {},
   "outputs": [],
   "source": []
  }
 ],
 "metadata": {
  "kernelspec": {
   "display_name": "Python 3",
   "language": "python",
   "name": "python3"
  },
  "language_info": {
   "codemirror_mode": {
    "name": "ipython",
    "version": 3
   },
   "file_extension": ".py",
   "mimetype": "text/x-python",
   "name": "python",
   "nbconvert_exporter": "python",
   "pygments_lexer": "ipython3",
   "version": "3.7.3"
  }
 },
 "nbformat": 4,
 "nbformat_minor": 2
}
