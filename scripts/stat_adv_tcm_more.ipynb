{
 "cells": [
  {
   "cell_type": "code",
   "execution_count": 4,
   "metadata": {},
   "outputs": [],
   "source": [
    "import json\n",
    "from datetime import datetime, timedelta\n",
    "from itertools import dropwhile, groupby\n",
    "import numpy as np\n",
    "import pandas as pd\n",
    "import scipy.signal as sp\n",
    "from pathlib import Path\n",
    "from typing import Mapping, Optional\n",
    "import re\n",
    "\n",
    "# Custom functions\n",
    "from scripts import stat_wind\n",
    "import plot\n",
    "import func_vsz as fv\n"
   ]
  },
  {
   "cell_type": "code",
   "execution_count": 11,
   "metadata": {},
   "outputs": [
    {
     "data": {
      "text/plain": [
       "<contextlib.ExitStack at 0x22346c017f0>"
      ]
     },
     "execution_count": 11,
     "metadata": {},
     "output_type": "execute_result"
    }
   ],
   "source": [
    "import statsmodels.api as sm  # .stats.api as sms\n",
    "\n",
    "# Plotting libraries and settings\n",
    "\n",
    "import matplotlib.pyplot as plt\n",
    "import matplotlib\n",
    "from matplotlib.colors import Normalize\n",
    "from matplotlib.cm import ScalarMappable\n",
    "from matplotlib.ticker import LogLocator, AutoMinorLocator, MultipleLocator\n",
    "from matplotlib.gridspec import GridSpec, GridSpecFromSubplotSpec\n",
    "\n",
    "matplotlib.rcParams[\"axes.linewidth\"] = 1.5\n",
    "matplotlib.rcParams[\"figure.figsize\"] = (16, 7)\n",
    "matplotlib.rcParams[\"font.size\"] = 12\n",
    "matplotlib.rcParams[\"axes.xmargin\"] = 0.001  # (default: 0.05)\n",
    "matplotlib.rcParams[\"axes.ymargin\"] = 0.01\n",
    "\n",
    "from mpl_toolkits.axes_grid1 import make_axes_locatable\n",
    "from mpl_toolkits.axes_grid1.axes_size import Fixed, Scaled\n",
    "\n",
    "try:\n",
    "    matplotlib.use(\n",
    "        \"Qt5Agg\"\n",
    "    )  # must be before importing plt (raises error after although documentation said no effect)\n",
    "except ImportError:\n",
    "    pass\n",
    "matplotlib.interactive(True)\n",
    "plt.ion()\n",
    "# import seaborn as sns\n",
    "# sns.set_theme(style=\"whitegrid\")\n"
   ]
  },
  {
   "cell_type": "code",
   "execution_count": 14,
   "metadata": {},
   "outputs": [],
   "source": [
    "path_raw_adv = Path(\n",
    "    r\"B:\\WorkData\\Cruises(older)\\_KaraSea\\220906_AMK89-1\\ADV_Sontek\\_raw,to_txt,vsz\"\n",
    ")\n",
    "path_db = Path(\n",
    "    r\"B:\\WorkData\\Cruises(older)\\_KaraSea\\220906_AMK89-1\\ADV_Sontek\\st7440A,7441A@ADV+TCM.h5\"\n",
    ")\n",
    "\n",
    "adv_str = \"ADV\"\n",
    "tcm_str = \"TCM\"\n",
    "\n",
    "str_abs, str_dir = \"|V|\", \"Vdir\"\n",
    "n_params = 2  # number of (above) parameters to plot"
   ]
  },
  {
   "cell_type": "code",
   "execution_count": 6,
   "metadata": {},
   "outputs": [
    {
     "name": "stdout",
     "output_type": "stream",
     "text": [
      "Loading from B:\\WorkData\\Cruises(older)\\_KaraSea\\220906_AMK89-1\\ADV_Sontek\\st7440A,7441A@ADV+TCM.h5...['PSD_i37_orig', 'PSD_i38_orig', 'PSD_i_b21_orig', 'PSD_i_b22_orig', 'st7440A', 'st7441A']\n"
     ]
    }
   ],
   "source": [
    "# Load from DB\n",
    "print(f\"Loading from {path_db}...\", end=\"\")\n",
    "dfs = {}  # stations dict with values of all devices data merged into one dataframe\n",
    "with pd.HDFStore(path_db, mode=\"r\") as store:\n",
    "    nodes = sorted(store.root.__members__)  # , key=number_key\n",
    "    print(nodes)\n",
    "    st_prefix = \"st\"\n",
    "    stations = [node[len(st_prefix):] for node in nodes if node.startswith(st_prefix)]\n",
    "    # dfs that is needed for regression plots\n",
    "    for st in stations:\n",
    "        dfs[st] = store[f\"st{st}\"].rename(\n",
    "            lambda col: col.replace(\"Vabs\", \"|V|\"), axis=\"columns\"\n",
    "        )"
   ]
  },
  {
   "cell_type": "code",
   "execution_count": null,
   "metadata": {},
   "outputs": [
    {
     "name": "stdout",
     "output_type": "stream",
     "text": [
      "Plotting\n",
      "7440A ['TCM50m', 'ADV44m', 'ADV70m']\n",
      "7441A ['TCM50m', 'ADV45m', 'ADV76m']\n",
      "source data plotted\n"
     ]
    }
   ],
   "source": [
    "print(\"Plotting\")\n",
    "b_plot_source = True  # False\n",
    "if b_plot_source:\n",
    "    ## 3.1 Plot source on stations\n",
    "    for st, df in dfs.items():\n",
    "        # # Convert dates to days for color points and label colorbar\n",
    "        # days_start = df.index[0].floor(\"d\")\n",
    "        # df[\"days\"] = (df.index - days_start).total_seconds() / 86400\n",
    "\n",
    "        cols_prm = [c for c in df.columns if c.startswith(str_abs)]\n",
    "        len_str_prm_prefix = len(str_abs) + 1\n",
    "        devs = [\n",
    "            c[len_str_prm_prefix:] for c in cols_prm\n",
    "            if c[len_str_prm_prefix:].startswith(\"ADV4\", \"TCM5\")\n",
    "        ]\n",
    "        devs.sort(\n",
    "            key=lambda c: (\n",
    "                lambda b_tcm: (not b_tcm) * 10000  # > max depth to sort TCM first\n",
    "                + int(c[len(tcm_str if tcm_str else adv_str) : -1])  # sort depth\n",
    "            )(c.startswith(tcm_str))\n",
    "        )\n",
    "        print(st, devs)\n",
    "        n_rows = len(devs) * n_params  #  = df.columns.size if no new cols\n",
    "\n",
    "        fig, axes = plt.subplots(nrows=n_rows, sharex=True)\n",
    "        for i_dev, dev in enumerate(devs):\n",
    "            for i_prm, (str_prm, str_unit) in enumerate(\n",
    "                [(str_abs, \"{m}/{s}\".format_map(fv.I)), (str_dir, \"°\")]\n",
    "            ):\n",
    "                i_plot = i_dev * n_params + i_prm\n",
    "                ax = axes[i_plot]\n",
    "                ax.plot(\n",
    "                    df.index,\n",
    "                    df[f\"{str_prm}_{dev}\"],\n",
    "                    label=dev,\n",
    "                    color=\"red\" if str_prm == str_abs else \"blue\",\n",
    "                )\n",
    "                if i_plot == n_rows - 1:\n",
    "                    ax.set_xlabel(\"Time\")\n",
    "                ax.set_ylabel(\", \".join([str_prm, str_unit]))\n",
    "                ax.grid(True, linestyle=\"--\")\n",
    "                ax.legend(title=st if i_plot == 0 else None, loc=\"upper right\")\n",
    "\n",
    "                # cols_prm = [c for c in df.columns if c.startswith(str_prm)]\n",
    "                # len_str_prm_prefix = len(str_prm) + 1\n",
    "                # devs = [c[len_str_prm_prefix:] for c in cols_prm]\n",
    "\n",
    "                # icol_x = devs.index([dev for dev in devs if dev.startswith(tcm_str)][0])\n",
    "                # # ADV devices\n",
    "                # col_prm_y = cols_prm[icol_x]\n",
    "\n",
    "    plt.show()\n",
    "    print(\"source data plotted\")"
   ]
  },
  {
   "cell_type": "code",
   "execution_count": null,
   "metadata": {},
   "outputs": [],
   "source": [
    "# All devices data statistics\n",
    "b_save_stat = False\n",
    "for st in stations:\n",
    "    df_stats, df_stats_corr = stat_wind.get_stat(dfs[st], v=\"V\")\n",
    "    if b_save_stat:\n",
    "        stat_wind.save_stat(\n",
    "            df_stats,\n",
    "            df_stats_corr,\n",
    "            path_base=path_raw_adv.with_name(f\"st{st}_avg-dec={int(dt)}s\"),\n",
    "            v=\"V\",\n",
    "        )\n"
   ]
  }
 ],
 "metadata": {
  "kernelspec": {
   "display_name": "default",
   "language": "python",
   "name": "python3"
  },
  "language_info": {
   "codemirror_mode": {
    "name": "ipython",
    "version": 3
   },
   "file_extension": ".py",
   "mimetype": "text/x-python",
   "name": "python",
   "nbconvert_exporter": "python",
   "pygments_lexer": "ipython3",
   "version": "3.12.9"
  }
 },
 "nbformat": 4,
 "nbformat_minor": 2
}
