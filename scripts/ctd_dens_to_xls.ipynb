{
 "cells": [
  {
   "cell_type": "code",
   "execution_count": 37,
   "metadata": {},
   "outputs": [],
   "source": [
    "import pandas as pd\n",
    "import gsw\n",
    "from pathlib import Path"
   ]
  },
  {
   "cell_type": "code",
   "execution_count": 38,
   "metadata": {},
   "outputs": [],
   "source": [
    "lat = None; lon = None\n",
    "filename = Path(r'd:\\WorkData\\_source\\Первичные данные SBE-19.xls')\n",
    "my_cols_names = {\n",
    "\"Dat\":     'Дата, мм/дд/гггг',\n",
    "\"Tim\":     'Время, чч:мм:сс',\n",
    "\"Pres\":    'Давление, дБар',\n",
    "\"Depth\":   'Глубина, м',\n",
    "\"Temp90\":  'Температура,°C',\n",
    "\"Temp_pot\":'Потенциальная температура,°C',\n",
    "\"C\":       'Электропроводность, См/м',\n",
    "\"Sal\":     'Соленость, епс',\n",
    "\"O2ppm\":   'Содержание кислорода, мл/л',\n",
    "\"O2\":      'Насыщение кислородом, %',\n",
    "\"Turb\":    'Мутность, емф',\n",
    "\"SoundV\":  'Скорость звука (Chen-Millero), м/с',\n",
    "\"st\":      'Станция',\n",
    "\"Lat\":     'Широта',\n",
    "\"Lon\":     'Долгота'\n",
    "}"
   ]
  },
  {
   "cell_type": "code",
   "execution_count": 39,
   "metadata": {},
   "outputs": [],
   "source": [
    "xls = pd.read_excel(filename, index_col=0, parse_dates= {'Time': [0,1]}, names= my_cols_names.keys(), sheet_name=None)\n",
    "print(f'writing sheets: {xls.keys()}')"
   ]
  },
  {
   "cell_type": "code",
   "execution_count": 56,
   "metadata": {},
   "outputs": [],
   "source": [
    "with pd.ExcelWriter(filename.with_name(filename.stem + '_mod.xlsx')) as writer:\n",
    "    for sheet_name, ctd in xls.items():\n",
    "        ctd['SA'] = gsw.SA_from_SP(ctd['Sal'], ctd['Pres'], lat=ctd.get('Lat', lat), lon=ctd.get('Lon', lon))\n",
    "        ctd['CT'] = gsw.CT_from_t(ctd['SA'], ctd['Temp90'], ctd['Pres'])\n",
    "        ctd['sigma0'] = gsw.sigma0(ctd['SA'], ctd['CT'])\n",
    "        ctd.rename(columns={my_cols_names, *{'Time': 'Дата, Время'}}).to_excel(writer, sheet_name=sheet_name)"
   ]
  },
  {
   "cell_type": "code",
   "execution_count": null,
   "metadata": {},
   "outputs": [],
   "source": []
  }
 ],
 "metadata": {
  "kernelspec": {
   "display_name": "Python 3",
   "language": "python",
   "name": "python3"
  },
  "language_info": {
   "codemirror_mode": {
    "name": "ipython",
    "version": 3
   },
   "file_extension": ".py",
   "mimetype": "text/x-python",
   "name": "python",
   "nbconvert_exporter": "python",
   "pygments_lexer": "ipython3",
   "version": "3.7.10"
  }
 },
 "nbformat": 4,
 "nbformat_minor": 4
}
