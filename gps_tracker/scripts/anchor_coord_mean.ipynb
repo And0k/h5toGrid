{
 "cells": [
  {
   "cell_type": "code",
   "execution_count": 3,
   "id": "cc6d5b9a",
   "metadata": {},
   "outputs": [
    {
     "name": "stdout",
     "output_type": "stream",
     "text": [
      "0.5788827565984748\n"
     ]
    }
   ],
   "source": [
    "import numpy as np\n",
    "\n",
    "R = 6371000\n",
    "klon = np.cos(np.radians(54.628))\n",
    "print(klon)"
   ]
  },
  {
   "cell_type": "code",
   "execution_count": 12,
   "id": "527d9ea6",
   "metadata": {},
   "outputs": [
    {
     "name": "stdout",
     "output_type": "stream",
     "text": [
      "0.00006214 °\n",
      "Best mapsource longitude resolution: 0.643688 m\n"
     ]
    }
   ],
   "source": [
    "dx = 4  # m\n",
    "dlon_dx = np.degrees(dx / (R * klon))\n",
    "print(f'{dlon_dx:.8f}', '°')\n",
    "\n",
    "# \n",
    "dlon = 1E-5  # °\n",
    "dx = print(f'Best mapsource longitude resolution: {np.radians(dlon)*(R*klon):g} m')"
   ]
  },
  {
   "cell_type": "code",
   "execution_count": 15,
   "id": "f0333acb",
   "metadata": {},
   "outputs": [
    {
     "name": "stdout",
     "output_type": "stream",
     "text": [
      "sp3 anchor: [54.6279235 19.8166424]\n",
      "sp2 anchor: [54.62858533 19.81633417]\n"
     ]
    }
   ],
   "source": [
    "# Mean coordinates \n",
    "# sp3\n",
    "coord_anchor = np.array([[54 + 37.677/60, 19 + 48.997/60 + dlon_dx], [54.627897, 19.816606]]).mean(axis=0)\n",
    "# [54.627925, 19.816645] if take mean of MapSource data\n",
    "print('sp3 anchor:', coord_anchor)\n",
    "# sp2\n",
    "coord_anchor = np.array([[54 + 37.717/60, 19 + 48.977/60], [54.628554, 19.816385]]).mean(axis=0)\n",
    "print('sp2 anchor:', coord_anchor)"
   ]
  },
  {
   "cell_type": "code",
   "execution_count": null,
   "id": "c689a079",
   "metadata": {},
   "outputs": [],
   "source": []
  }
 ],
 "metadata": {
  "kernelspec": {
   "display_name": "Python 3 (ipykernel)",
   "language": "python",
   "name": "python3"
  },
  "language_info": {
   "codemirror_mode": {
    "name": "ipython",
    "version": 3
   },
   "file_extension": ".py",
   "mimetype": "text/x-python",
   "name": "python",
   "nbconvert_exporter": "python",
   "pygments_lexer": "ipython3",
   "version": "3.9.7"
  }
 },
 "nbformat": 4,
 "nbformat_minor": 5
}
